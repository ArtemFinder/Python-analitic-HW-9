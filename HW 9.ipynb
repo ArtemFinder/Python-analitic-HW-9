{
 "cells": [
  {
   "cell_type": "markdown",
   "metadata": {},
   "source": [
    "Проанализируйте результаты эксперимента и напишите свои рекомендации менеджеру.  \n",
    "Mobile Games AB Testing with Cookie Cats  \n",
    "https://www.kaggle.com/code/mursideyarkin/mobile-games-ab-testing-with-cookie-cats/input"
   ]
  },
  {
   "cell_type": "code",
   "execution_count": null,
   "metadata": {},
   "outputs": [],
   "source": []
  }
 ],
 "metadata": {
  "language_info": {
   "name": "python"
  },
  "orig_nbformat": 4
 },
 "nbformat": 4,
 "nbformat_minor": 2
}
